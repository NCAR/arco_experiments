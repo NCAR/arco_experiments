{
 "cells": [
  {
   "cell_type": "markdown",
   "id": "1a8b90f0-08d4-42e1-9285-b8832a1705a0",
   "metadata": {},
   "source": [
    "# NetCDF vs zarr, an imperfect comparsion\n",
    "- Adapted from https://github.com/Unidata/MLscratchpad/blob/main/BlogNotebooks/Zarr_vs_Xarray/netCDF_vs_Zarr_filestorage.ipynb\n",
    "- https://www.unidata.ucar.edu/blogs/news/entry/netcdf-vs-zarr-an-incomplete"
   ]
  },
  {
   "cell_type": "code",
   "execution_count": 1,
   "id": "bfbdc8b3-626c-43e3-afce-78efc975fa72",
   "metadata": {},
   "outputs": [
    {
     "name": "stdout",
     "output_type": "stream",
     "text": [
      "Zarr Version: 2.18.2\n",
      "Xarray Version: 2024.6.0\n"
     ]
    }
   ],
   "source": [
    "import os\n",
    "import shutil\n",
    "import platform\n",
    "import zarr\n",
    "\n",
    "import xarray as xr\n",
    "import matplotlib.pyplot as plt\n",
    "\n",
    "from siphon.catalog import TDSCatalog\n",
    "import xarray as xr\n",
    "\n",
    "print(f\"Zarr Version: {zarr.__version__}\")\n",
    "print(f\"Xarray Version: {xr.__version__}\")"
   ]
  },
  {
   "cell_type": "code",
   "execution_count": 2,
   "id": "8b601746-ee0b-48d7-a24f-1c2b384f56b9",
   "metadata": {},
   "outputs": [
    {
     "name": "stdout",
     "output_type": "stream",
     "text": [
      "Operating System: Linux 5.14.21-150400.24.46-default\n",
      "Number of CPU Cores: 72\n"
     ]
    },
    {
     "name": "stderr",
     "output_type": "stream",
     "text": [
      "sysctl: cannot stat /proc/sys/hw/memsize: No such file or directory\n"
     ]
    },
    {
     "ename": "IndexError",
     "evalue": "list index out of range",
     "output_type": "error",
     "traceback": [
      "\u001b[0;31m---------------------------------------------------------------------------\u001b[0m",
      "\u001b[0;31mIndexError\u001b[0m                                Traceback (most recent call last)",
      "Cell \u001b[0;32mIn[2], line 12\u001b[0m\n\u001b[1;32m     10\u001b[0m command \u001b[38;5;241m=\u001b[39m \u001b[38;5;124m\"\u001b[39m\u001b[38;5;124msysctl hw.memsize\u001b[39m\u001b[38;5;124m\"\u001b[39m\n\u001b[1;32m     11\u001b[0m output \u001b[38;5;241m=\u001b[39m os\u001b[38;5;241m.\u001b[39mpopen(command)\u001b[38;5;241m.\u001b[39mread()\n\u001b[0;32m---> 12\u001b[0m total_memory \u001b[38;5;241m=\u001b[39m \u001b[38;5;28mint\u001b[39m(\u001b[43moutput\u001b[49m\u001b[38;5;241;43m.\u001b[39;49m\u001b[43msplit\u001b[49m\u001b[43m(\u001b[49m\u001b[38;5;124;43m\"\u001b[39;49m\u001b[38;5;124;43m:\u001b[39;49m\u001b[38;5;124;43m\"\u001b[39;49m\u001b[43m)\u001b[49m\u001b[43m[\u001b[49m\u001b[38;5;241;43m1\u001b[39;49m\u001b[43m]\u001b[49m\u001b[38;5;241m.\u001b[39mstrip())\n\u001b[1;32m     13\u001b[0m total_memory_gb \u001b[38;5;241m=\u001b[39m \u001b[38;5;124mf\u001b[39m\u001b[38;5;124m\"\u001b[39m\u001b[38;5;132;01m{\u001b[39;00mtotal_memory\u001b[38;5;250m \u001b[39m\u001b[38;5;241m/\u001b[39m\u001b[38;5;250m \u001b[39m(\u001b[38;5;241m1024\u001b[39m\u001b[38;5;250m \u001b[39m\u001b[38;5;241m*\u001b[39m\u001b[38;5;241m*\u001b[39m\u001b[38;5;250m \u001b[39m\u001b[38;5;241m3\u001b[39m)\u001b[38;5;132;01m:\u001b[39;00m\u001b[38;5;124m.2f\u001b[39m\u001b[38;5;132;01m}\u001b[39;00m\u001b[38;5;124m GB\u001b[39m\u001b[38;5;124m\"\u001b[39m\n\u001b[1;32m     14\u001b[0m \u001b[38;5;28mprint\u001b[39m(\u001b[38;5;124mf\u001b[39m\u001b[38;5;124m\"\u001b[39m\u001b[38;5;124mTotal RAM: \u001b[39m\u001b[38;5;132;01m{\u001b[39;00mtotal_memory_gb\u001b[38;5;132;01m}\u001b[39;00m\u001b[38;5;124m\"\u001b[39m)\n",
      "\u001b[0;31mIndexError\u001b[0m: list index out of range"
     ]
    }
   ],
   "source": [
    "# Get OS information\n",
    "uname = platform.uname()\n",
    "print(f\"Operating System: {uname.system} {uname.release}\")\n",
    "\n",
    "# Get number of CPU cores\n",
    "cpu_cores = os.cpu_count()\n",
    "print(f\"Number of CPU Cores: {cpu_cores}\")\n",
    "\n",
    "# Get amount of RAM \n",
    "command = \"sysctl hw.memsize\"\n",
    "output = os.popen(command).read()\n",
    "total_memory = int(output.split(\":\")[1].strip())\n",
    "total_memory_gb = f\"{total_memory / (1024 ** 3):.2f} GB\"\n",
    "print(f\"Total RAM: {total_memory_gb}\")\n",
    "\n",
    "# Get Python version\n",
    "python_version = platform.python_version()\n",
    "print(f\"Python Version: {python_version}\")"
   ]
  },
  {
   "cell_type": "code",
   "execution_count": 3,
   "id": "cf0dab49-ee60-4a28-a3a3-6ef16440a399",
   "metadata": {},
   "outputs": [
    {
     "name": "stdout",
     "output_type": "stream",
     "text": [
      "ds is a: <class 'xarray.core.dataset.Dataset'>\n"
     ]
    }
   ],
   "source": [
    "catUrl = \"https://thredds.ucar.edu/thredds/catalog/grib/NCEP/GFS/Global_onedeg_ana/catalog.xml\";\n",
    "datasetName = \"Full Collection Dataset\";\n",
    "\n",
    "catalog = TDSCatalog(catUrl)\n",
    "\n",
    "ds2 = catalog.datasets[datasetName].remote_access(use_xarray=True, service='OPENDAP')\n",
    "print('ds is a:', type(ds2))"
   ]
  },
  {
   "cell_type": "code",
   "execution_count": null,
   "id": "b1b4c744-fbff-4b09-8944-343f0416883e",
   "metadata": {},
   "outputs": [],
   "source": [
    "ds2 = ds2.isel(time=slice(0, 15))\n",
    "ds2.load()"
   ]
  },
  {
   "cell_type": "code",
   "execution_count": null,
   "id": "b63b60c0-4e80-4597-8e63-2ff92c38cccf",
   "metadata": {},
   "outputs": [],
   "source": [
    "print(f\"Dataset 1 (Air Temp) size: {ds.nbytes / 1e6:.2f} MB\")\n",
    "print(f\"Dataset 2 (GFS) size: {ds2.nbytes / 1e6:.2f} MB\")"
   ]
  },
  {
   "cell_type": "markdown",
   "id": "d7b5437d-e432-4bc4-8e7a-c2278da5be28",
   "metadata": {},
   "source": [
    "## Make some directories to put some science in them"
   ]
  },
  {
   "cell_type": "code",
   "execution_count": null,
   "id": "91345ea3-a896-45c5-9a1d-f8dc4d9a41ad",
   "metadata": {},
   "outputs": [],
   "source": [
    "def delete_directory_contents(directory_name):\n",
    "    for filename in os.listdir(directory_name):\n",
    "        file_path = os.path.join(directory_name, filename)\n",
    "        try:\n",
    "            if os.path.isfile(file_path):\n",
    "                os.unlink(file_path)\n",
    "            elif os.path.isdir(file_path):\n",
    "                shutil.rmtree(file_path)\n",
    "        except Exception as e:\n",
    "            print(f\"Failed to delete {file_path}. Reason: {e}\")"
   ]
  },
  {
   "cell_type": "code",
   "execution_count": null,
   "id": "364fb453-d0ff-4721-a89f-e33d264e8346",
   "metadata": {},
   "outputs": [],
   "source": []
  }
 ],
 "metadata": {
  "kernelspec": {
   "display_name": "Python [conda env:arco_experiments]",
   "language": "python",
   "name": "conda-env-arco_experiments-py"
  },
  "language_info": {
   "codemirror_mode": {
    "name": "ipython",
    "version": 3
   },
   "file_extension": ".py",
   "mimetype": "text/x-python",
   "name": "python",
   "nbconvert_exporter": "python",
   "pygments_lexer": "ipython3",
   "version": "3.12.4"
  }
 },
 "nbformat": 4,
 "nbformat_minor": 5
}
